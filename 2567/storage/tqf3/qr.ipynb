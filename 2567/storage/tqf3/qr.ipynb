{
 "cells": [
  {
   "cell_type": "code",
   "execution_count": 4,
   "id": "54738af9-c7d4-4fe6-9d99-f6ba6a10855a",
   "metadata": {},
   "outputs": [],
   "source": [
    "import pandas as pd\n",
    "import numpy as np\n",
    "import qrcode"
   ]
  },
  {
   "cell_type": "code",
   "execution_count": null,
   "id": "7d8cfbde-b361-491b-88d5-787bae11a27e",
   "metadata": {},
   "outputs": [],
   "source": [
    "filename = 'courses_2567.xlsx'\n",
    "semester = '1_2567'\n",
    "base_url = 'https://epsilonxe.github.io/rmutt_ma_aunqa/2567/storage/tqf3'\n",
    "df = pd.read_excel(filename, \n",
    "                   sheet_name=semester, \n",
    "                   header=None, \n",
    "                   dtype={0: str, 1: str}\n",
    "                  )\n",
    "course_id = list(df[0])\n",
    "course_title = list(df[1])\n",
    "for i, t in zip(course_id, course_title):\n",
    "    img_url = f'{base_url}/{i}_{semester}.pdf'\n",
    "    img_name = f'{i}_{semester}.png'\n",
    "    img = qrcode.make(img_url)\n",
    "    try:\n",
    "        img.save(img_name)\n",
    "        print(f'saved {img_name} successfully')\n",
    "    except:\n",
    "        print(f'saving {img_name} failed')"
   ]
  },
  {
   "cell_type": "code",
   "execution_count": null,
   "id": "cb4886fe-94de-4350-95fa-f587b24743ee",
   "metadata": {},
   "outputs": [],
   "source": []
  }
 ],
 "metadata": {
  "kernelspec": {
   "display_name": "Python 3 (ipykernel)",
   "language": "python",
   "name": "python3"
  },
  "language_info": {
   "codemirror_mode": {
    "name": "ipython",
    "version": 3
   },
   "file_extension": ".py",
   "mimetype": "text/x-python",
   "name": "python",
   "nbconvert_exporter": "python",
   "pygments_lexer": "ipython3",
   "version": "3.12.0"
  }
 },
 "nbformat": 4,
 "nbformat_minor": 5
}
