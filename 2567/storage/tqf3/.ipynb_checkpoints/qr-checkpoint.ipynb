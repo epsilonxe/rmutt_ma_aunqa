{
 "cells": [
  {
   "cell_type": "code",
   "execution_count": 4,
   "id": "54738af9-c7d4-4fe6-9d99-f6ba6a10855a",
   "metadata": {},
   "outputs": [],
   "source": [
    "import pandas as pd\n",
    "import numpy as np\n",
    "import qrcode"
   ]
  },
  {
   "cell_type": "code",
   "execution_count": 28,
   "id": "7d8cfbde-b361-491b-88d5-787bae11a27e",
   "metadata": {},
   "outputs": [
    {
     "name": "stdout",
     "output_type": "stream",
     "text": [
      "saved 09111001_2_2567.png successfully\n",
      "saved 09111051_2_2567.png successfully\n",
      "saved 09111126_2_2567.png successfully\n",
      "saved 09111141_2_2567.png successfully\n",
      "saved 09111142_2_2567.png successfully\n",
      "saved 09111151_2_2567.png successfully\n",
      "saved 09111152_2_2567.png successfully\n",
      "saved 09111257_2_2567.png successfully\n",
      "saved 09113114_2_2567.png successfully\n",
      "saved 09113203_2_2567.png successfully\n",
      "saved 09113306_2_2567.png successfully\n",
      "saved 09114202_2_2567.png successfully\n",
      "saved 09114204_2_2567.png successfully\n",
      "saved 09114223_2_2567.png successfully\n",
      "saved 09114316_2_2567.png successfully\n",
      "saved 09114318_2_2567.png successfully\n",
      "saved 09114319_2_2567.png successfully\n",
      "saved 09114324_2_2567.png successfully\n",
      "saved 09114325_2_2567.png successfully\n",
      "saved 09114327_2_2567.png successfully\n",
      "saved 09114330_2_2567.png successfully\n",
      "saved 09114331_2_2567.png successfully\n",
      "saved 09114339_2_2567.png successfully\n",
      "saved 09115304_2_2567.png successfully\n",
      "saved 09115401_2_2567.png successfully\n",
      "saved 09115404_2_2567.png successfully\n",
      "saved 09116301_2_2567.png successfully\n"
     ]
    }
   ],
   "source": [
    "filename = 'courses_2567.xlsx'\n",
    "semester = '2_2567'\n",
    "base_url = 'https://epsilonxe.github.io/rmutt_ma_aunqa/2567/storage/tqf3'\n",
    "df = pd.read_excel(filename, \n",
    "                   sheet_name=semester, \n",
    "                   header=None, \n",
    "                   dtype={0: str, 1: str}\n",
    "                  )\n",
    "course_id = list(df[0])\n",
    "course_title = list(df[1])\n",
    "for i, t in zip(course_id, course_title):\n",
    "    img_url = base_url + '/' + i + '.pdf'\n",
    "    img_name = f'{i}_{semester}.png'\n",
    "    img = qrcode.make(img_url)\n",
    "    try:\n",
    "        img.save(img_name)\n",
    "        print(f'saved {img_name} successfully')\n",
    "    except:\n",
    "        print(f'saving {img_name} failed')"
   ]
  },
  {
   "cell_type": "code",
   "execution_count": null,
   "id": "cb4886fe-94de-4350-95fa-f587b24743ee",
   "metadata": {},
   "outputs": [],
   "source": []
  }
 ],
 "metadata": {
  "kernelspec": {
   "display_name": "Python 3 (ipykernel)",
   "language": "python",
   "name": "python3"
  },
  "language_info": {
   "codemirror_mode": {
    "name": "ipython",
    "version": 3
   },
   "file_extension": ".py",
   "mimetype": "text/x-python",
   "name": "python",
   "nbconvert_exporter": "python",
   "pygments_lexer": "ipython3",
   "version": "3.12.0"
  }
 },
 "nbformat": 4,
 "nbformat_minor": 5
}
